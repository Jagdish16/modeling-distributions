{
 "cells": [
  {
   "cell_type": "markdown",
   "metadata": {},
   "source": [
    "# Discussion Questions"
   ]
  },
  {
   "cell_type": "markdown",
   "metadata": {},
   "source": [
    "### Introduction"
   ]
  },
  {
   "cell_type": "markdown",
   "metadata": {},
   "source": [
    "A foundation of exploratory statistics is creating a histogram.  As Python developers and data scientists, we should be familiar with the various ways that we can create one.  In this lesson, we'll create histograms from our movie dataset, and review how to do so in Python."
   ]
  },
  {
   "cell_type": "markdown",
   "metadata": {},
   "source": [
    "### Loading our Data"
   ]
  },
  {
   "cell_type": "code",
   "execution_count": 1,
   "metadata": {},
   "outputs": [],
   "source": [
    "import pandas as pd\n",
    "url = \"https://raw.githubusercontent.com/jigsawlabs-student/modeling-distributions/master/imdb_movies.csv\"\n",
    "df = pd.read_csv(url)"
   ]
  },
  {
   "cell_type": "code",
   "execution_count": 2,
   "metadata": {},
   "outputs": [
    {
     "data": {
      "text/html": [
       "<div>\n",
       "<style scoped>\n",
       "    .dataframe tbody tr th:only-of-type {\n",
       "        vertical-align: middle;\n",
       "    }\n",
       "\n",
       "    .dataframe tbody tr th {\n",
       "        vertical-align: top;\n",
       "    }\n",
       "\n",
       "    .dataframe thead th {\n",
       "        text-align: right;\n",
       "    }\n",
       "</style>\n",
       "<table border=\"1\" class=\"dataframe\">\n",
       "  <thead>\n",
       "    <tr style=\"text-align: right;\">\n",
       "      <th></th>\n",
       "      <th>title</th>\n",
       "      <th>genre</th>\n",
       "      <th>budget</th>\n",
       "      <th>runtime</th>\n",
       "      <th>year</th>\n",
       "      <th>month</th>\n",
       "      <th>revenue</th>\n",
       "    </tr>\n",
       "  </thead>\n",
       "  <tbody>\n",
       "    <tr>\n",
       "      <th>0</th>\n",
       "      <td>Avatar</td>\n",
       "      <td>Action</td>\n",
       "      <td>237000000</td>\n",
       "      <td>162.0</td>\n",
       "      <td>2009</td>\n",
       "      <td>12</td>\n",
       "      <td>2787965087</td>\n",
       "    </tr>\n",
       "    <tr>\n",
       "      <th>1</th>\n",
       "      <td>Pirates of the Caribbean: At World's End</td>\n",
       "      <td>Adventure</td>\n",
       "      <td>300000000</td>\n",
       "      <td>169.0</td>\n",
       "      <td>2007</td>\n",
       "      <td>5</td>\n",
       "      <td>961000000</td>\n",
       "    </tr>\n",
       "    <tr>\n",
       "      <th>2</th>\n",
       "      <td>Spectre</td>\n",
       "      <td>Action</td>\n",
       "      <td>245000000</td>\n",
       "      <td>148.0</td>\n",
       "      <td>2015</td>\n",
       "      <td>10</td>\n",
       "      <td>880674609</td>\n",
       "    </tr>\n",
       "  </tbody>\n",
       "</table>\n",
       "</div>"
      ],
      "text/plain": [
       "                                      title      genre     budget  runtime  \\\n",
       "0                                    Avatar     Action  237000000    162.0   \n",
       "1  Pirates of the Caribbean: At World's End  Adventure  300000000    169.0   \n",
       "2                                   Spectre     Action  245000000    148.0   \n",
       "\n",
       "   year  month     revenue  \n",
       "0  2009     12  2787965087  \n",
       "1  2007      5   961000000  \n",
       "2  2015     10   880674609  "
      ]
     },
     "execution_count": 2,
     "metadata": {},
     "output_type": "execute_result"
    }
   ],
   "source": [
    "df[:3]"
   ]
  },
  {
   "cell_type": "code",
   "execution_count": 11,
   "metadata": {},
   "outputs": [],
   "source": [
    "movies = df.to_numpy()"
   ]
  },
  {
   "cell_type": "markdown",
   "metadata": {},
   "source": [
    "Next we'll select the years and genres of the movies in our dataset."
   ]
  },
  {
   "cell_type": "code",
   "execution_count": 5,
   "metadata": {},
   "outputs": [
    {
     "data": {
      "text/plain": [
       "array(['Action', 'Adventure', 'Action', ..., 'Romance', nan, 'Fantasy'],\n",
       "      dtype=object)"
      ]
     },
     "execution_count": 5,
     "metadata": {},
     "output_type": "execute_result"
    }
   ],
   "source": [
    "genres = movies[:, 1]\n",
    "genres"
   ]
  },
  {
   "cell_type": "markdown",
   "metadata": {},
   "source": [
    "Let's start by reviewing some Python."
   ]
  },
  {
   "cell_type": "markdown",
   "metadata": {},
   "source": [
    "1. Write a function that finds all moves by the genre in Python."
   ]
  },
  {
   "cell_type": "code",
   "execution_count": 16,
   "metadata": {},
   "outputs": [
    {
     "data": {
      "text/plain": [
       "[{'title': 'Avatar',\n",
       "  'genre': 'Action',\n",
       "  'budget': 237000000,\n",
       "  'runtime': 162.0,\n",
       "  'year': 2009,\n",
       "  'month': 12,\n",
       "  'revenue': 2787965087},\n",
       " {'title': \"Pirates of the Caribbean: At World's End\",\n",
       "  'genre': 'Adventure',\n",
       "  'budget': 300000000,\n",
       "  'runtime': 169.0,\n",
       "  'year': 2007,\n",
       "  'month': 5,\n",
       "  'revenue': 961000000}]"
      ]
     },
     "execution_count": 16,
     "metadata": {},
     "output_type": "execute_result"
    }
   ],
   "source": [
    "movies_py = df.to_dict('records')\n",
    "movies_py[:2]"
   ]
  },
  {
   "cell_type": "code",
   "execution_count": 22,
   "metadata": {},
   "outputs": [],
   "source": [
    "def find_by_genre(genre, movies):\n",
    "    pass"
   ]
  },
  {
   "cell_type": "code",
   "execution_count": 20,
   "metadata": {},
   "outputs": [],
   "source": [
    "action_movies = find_by_genre(\"Action\", movies_py)"
   ]
  },
  {
   "cell_type": "code",
   "execution_count": 21,
   "metadata": {},
   "outputs": [
    {
     "data": {
      "text/plain": [
       "[{'title': 'Avatar',\n",
       "  'genre': 'Action',\n",
       "  'budget': 237000000,\n",
       "  'runtime': 162.0,\n",
       "  'year': 2009,\n",
       "  'month': 12,\n",
       "  'revenue': 2787965087},\n",
       " {'title': 'Spectre',\n",
       "  'genre': 'Action',\n",
       "  'budget': 245000000,\n",
       "  'runtime': 148.0,\n",
       "  'year': 2015,\n",
       "  'month': 10,\n",
       "  'revenue': 880674609}]"
      ]
     },
     "execution_count": 21,
     "metadata": {},
     "output_type": "execute_result"
    }
   ],
   "source": [
    "action_movies[:2]\n",
    "# [{'title': 'Avatar',\n",
    "#   'genre': 'Action',\n",
    "#   'budget': 237000000,\n",
    "#   'runtime': 162.0,\n",
    "#   'year': 2009,\n",
    "#   'month': 12,\n",
    "#   'revenue': 2787965087},\n",
    "#  {'title': 'Spectre',\n",
    "#   'genre': 'Action',\n",
    "#   'budget': 245000000,\n",
    "#   'runtime': 148.0,\n",
    "#   'year': 2015,\n",
    "#   'month': 10,\n",
    "#   'revenue': 880674609}]"
   ]
  },
  {
   "cell_type": "markdown",
   "metadata": {},
   "source": [
    "Next write a method that allows us to scope down our list of dictionaries.  For example, if we provide it with the list `['title', 'budget']` it will return to us a list of movie dictionaries with just the title and budget.\n",
    "\n",
    "First let's do this for a single movie."
   ]
  },
  {
   "cell_type": "code",
   "execution_count": 24,
   "metadata": {},
   "outputs": [],
   "source": [
    "first_movie = movies_py[0]"
   ]
  },
  {
   "cell_type": "code",
   "execution_count": 32,
   "metadata": {},
   "outputs": [],
   "source": [
    "def scope_movie(movie, keys = []):\n",
    "    return {k:v for k, v in movie.items() if k in keys}"
   ]
  },
  {
   "cell_type": "code",
   "execution_count": 33,
   "metadata": {},
   "outputs": [
    {
     "data": {
      "text/plain": [
       "{'title': 'Avatar', 'budget': 237000000}"
      ]
     },
     "execution_count": 33,
     "metadata": {},
     "output_type": "execute_result"
    }
   ],
   "source": [
    "scope_movie(first_movie, ['title', 'budget'])\n",
    "# {'title': 'Avatar', 'budget': 237000000}"
   ]
  },
  {
   "cell_type": "code",
   "execution_count": 37,
   "metadata": {},
   "outputs": [],
   "source": [
    "def scope_movies(movies, keys = []):\n",
    "    return [scope_movie(movie, keys) for movie in movies]"
   ]
  },
  {
   "cell_type": "code",
   "execution_count": 40,
   "metadata": {},
   "outputs": [],
   "source": [
    "title_and_budgets = scope_movies(movies_py, ['title', 'budget'])\n"
   ]
  },
  {
   "cell_type": "code",
   "execution_count": 41,
   "metadata": {},
   "outputs": [
    {
     "data": {
      "text/plain": [
       "[{'title': 'Avatar', 'budget': 237000000},\n",
       " {'title': \"Pirates of the Caribbean: At World's End\", 'budget': 300000000},\n",
       " {'title': 'Spectre', 'budget': 245000000}]"
      ]
     },
     "execution_count": 41,
     "metadata": {},
     "output_type": "execute_result"
    }
   ],
   "source": [
    "title_and_budgets[:3]\n",
    "# [{'title': 'Avatar', 'budget': 237000000},\n",
    "#  {'title': \"Pirates of the Caribbean: At World's End\", 'budget': 300000000},\n",
    "#  {'title': 'Spectre', 'budget': 245000000}]"
   ]
  },
  {
   "cell_type": "markdown",
   "metadata": {},
   "source": [
    "### Building Histograms"
   ]
  },
  {
   "cell_type": "markdown",
   "metadata": {},
   "source": [
    "1. Creating a histogram in Python"
   ]
  },
  {
   "cell_type": "code",
   "execution_count": 8,
   "metadata": {},
   "outputs": [
    {
     "data": {
      "text/plain": [
       "['Action', 'Adventure', 'Action']"
      ]
     },
     "execution_count": 8,
     "metadata": {},
     "output_type": "execute_result"
    }
   ],
   "source": [
    "py_genres = genres.tolist()\n",
    "py_genres[:3]"
   ]
  },
  {
   "cell_type": "markdown",
   "metadata": {},
   "source": [
    "First use Python to find a unique list of the genres."
   ]
  },
  {
   "cell_type": "code",
   "execution_count": 74,
   "metadata": {},
   "outputs": [],
   "source": [
    "unique_genres = None\n",
    "\n",
    "unique_genres\n",
    "# [nan,\n",
    "#  'Thriller',\n",
    "#  'Animation',\n",
    "#  'Comedy',\n",
    "#  'Drama',\n",
    "#  'Action',\n",
    "#  'Romance',\n",
    "#  'Fantasy',\n",
    "#  'Science Fiction',\n",
    "#  'Crime',\n",
    "#  'Horror',\n",
    "#  'Adventure']"
   ]
  },
  {
   "cell_type": "markdown",
   "metadata": {},
   "source": [
    "The next step is to create a starting dictionary where each key is a different value, and the corresponding value is 0."
   ]
  },
  {
   "cell_type": "markdown",
   "metadata": {},
   "source": [
    "* We'll use the `dict.from_keys` method in Python to initialize a dictionary where each value is zero."
   ]
  },
  {
   "cell_type": "code",
   "execution_count": 37,
   "metadata": {},
   "outputs": [
    {
     "data": {
      "text/plain": [
       "{nan: 0,\n",
       " 'Thriller': 0,\n",
       " 'Animation': 0,\n",
       " 'Comedy': 0,\n",
       " 'Drama': 0,\n",
       " 'Action': 0,\n",
       " 'Romance': 0,\n",
       " 'Fantasy': 0,\n",
       " 'Science Fiction': 0,\n",
       " 'Crime': 0,\n",
       " 'Horror': 0,\n",
       " 'Adventure': 0}"
      ]
     },
     "execution_count": 37,
     "metadata": {},
     "output_type": "execute_result"
    }
   ],
   "source": [
    "hist = dict.fromkeys(unique_genres, 0)\n",
    "hist\n",
    "\n",
    "# {nan: 0,\n",
    "#  'Thriller': 0,\n",
    "#  'Animation': 0,\n",
    "#  'Comedy': 0,\n",
    "#  'Drama': 0,\n",
    "#  'Action': 0,\n",
    "#  'Romance': 0,\n",
    "#  'Fantasy': 0,\n",
    "#  'Science Fiction': 0,\n",
    "#  'Crime': 0,\n",
    "#  'Horror': 0,\n",
    "#  'Adventure': 0}\n"
   ]
  },
  {
   "cell_type": "markdown",
   "metadata": {},
   "source": [
    "Ok, now it's time to populate our dictionary with the correct numbers."
   ]
  },
  {
   "cell_type": "code",
   "execution_count": 76,
   "metadata": {},
   "outputs": [],
   "source": [
    "# write code here"
   ]
  },
  {
   "cell_type": "code",
   "execution_count": 40,
   "metadata": {},
   "outputs": [
    {
     "data": {
      "text/plain": [
       "{nan: 84,\n",
       " 'Thriller': 73,\n",
       " 'Animation': 93,\n",
       " 'Comedy': 359,\n",
       " 'Drama': 365,\n",
       " 'Action': 483,\n",
       " 'Romance': 40,\n",
       " 'Fantasy': 80,\n",
       " 'Science Fiction': 52,\n",
       " 'Crime': 76,\n",
       " 'Horror': 59,\n",
       " 'Adventure': 236}"
      ]
     },
     "execution_count": 40,
     "metadata": {},
     "output_type": "execute_result"
    }
   ],
   "source": [
    "hist\n",
    "# {nan: 84,\n",
    "#  'Thriller': 73,\n",
    "#  'Animation': 93,\n",
    "#  'Comedy': 359,\n",
    "#  'Drama': 365,\n",
    "#  'Action': 483,\n",
    "#  'Romance': 40,\n",
    "#  'Fantasy': 80,\n",
    "#  'Science Fiction': 52,\n",
    "#  'Crime': 76,\n",
    "#  'Horror': 59,\n",
    "#  'Adventure': 236}"
   ]
  },
  {
   "cell_type": "markdown",
   "metadata": {},
   "source": [
    "### Histogram with Counter"
   ]
  },
  {
   "cell_type": "markdown",
   "metadata": {},
   "source": [
    "Another way that we can create a histogram in Python is with the Counter method in Python's collection library."
   ]
  },
  {
   "cell_type": "code",
   "execution_count": 41,
   "metadata": {},
   "outputs": [],
   "source": [
    "from collections import Counter"
   ]
  },
  {
   "cell_type": "code",
   "execution_count": 44,
   "metadata": {},
   "outputs": [],
   "source": [
    "py_from_counter = dict(Counter(py_genres))"
   ]
  },
  {
   "cell_type": "code",
   "execution_count": 46,
   "metadata": {},
   "outputs": [
    {
     "data": {
      "text/plain": [
       "{'Action': 483,\n",
       " 'Adventure': 236,\n",
       " 'Fantasy': 80,\n",
       " 'Animation': 93,\n",
       " 'Science Fiction': 52,\n",
       " 'Drama': 365,\n",
       " 'Thriller': 73,\n",
       " nan: 84,\n",
       " 'Comedy': 359,\n",
       " 'Romance': 40,\n",
       " 'Crime': 76,\n",
       " 'Horror': 59}"
      ]
     },
     "execution_count": 46,
     "metadata": {},
     "output_type": "execute_result"
    }
   ],
   "source": [
    "py_from_counter\n",
    "# {'Action': 483,\n",
    "#  'Adventure': 236,\n",
    "#  'Fantasy': 80,\n",
    "#  'Animation': 93,\n",
    "#  'Science Fiction': 52,\n",
    "#  'Drama': 365,\n",
    "#  'Thriller': 73,\n",
    "#  nan: 84,\n",
    "#  'Comedy': 359,\n",
    "#  'Romance': 40,\n",
    "#  'Crime': 76,\n",
    "#  'Horror': 59}"
   ]
  },
  {
   "cell_type": "code",
   "execution_count": 49,
   "metadata": {},
   "outputs": [
    {
     "data": {
      "text/plain": [
       "dict"
      ]
     },
     "execution_count": 49,
     "metadata": {},
     "output_type": "execute_result"
    }
   ],
   "source": [
    "type(py_from_counter)\n",
    "# dict"
   ]
  },
  {
   "cell_type": "markdown",
   "metadata": {},
   "source": [
    "### Plotting our data in Matplotlib"
   ]
  },
  {
   "cell_type": "markdown",
   "metadata": {},
   "source": [
    "Now to plot the data above we should use a bar chart in matplotlib.  Remember that we use a bar chart when our data is separated into categories, and we are passing both x and y values."
   ]
  },
  {
   "cell_type": "markdown",
   "metadata": {},
   "source": [
    "Use Python to get a list of the keys from the `py_from_counter` dictionary.  Assign them to the variable `x_vals`."
   ]
  },
  {
   "cell_type": "code",
   "execution_count": 83,
   "metadata": {},
   "outputs": [
    {
     "data": {
      "text/plain": [
       "['Action',\n",
       " 'Adventure',\n",
       " 'Fantasy',\n",
       " 'Animation',\n",
       " 'Science Fiction',\n",
       " 'Drama',\n",
       " 'Thriller',\n",
       " nan,\n",
       " 'Comedy',\n",
       " 'Romance',\n",
       " 'Crime',\n",
       " 'Horror']"
      ]
     },
     "execution_count": 83,
     "metadata": {},
     "output_type": "execute_result"
    }
   ],
   "source": [
    "x_vals = None\n",
    "x_vals\n",
    "# ['Action','Adventure', 'Fantasy', 'Animation',\n",
    "#  'Science Fiction', 'Drama', 'Thriller', nan,  'Comedy',\n",
    "#  'Romance',  'Crime',  'Horror']\n"
   ]
  },
  {
   "cell_type": "markdown",
   "metadata": {},
   "source": [
    "Use Python to get a list of values from the `py_from_counter` dictionary.  Assign them to the variable `y_vals`."
   ]
  },
  {
   "cell_type": "code",
   "execution_count": 80,
   "metadata": {},
   "outputs": [
    {
     "data": {
      "text/plain": [
       "[483, 236, 80, 93, 52, 365, 73, 84, 359, 40, 76, 59]"
      ]
     },
     "execution_count": 80,
     "metadata": {},
     "output_type": "execute_result"
    }
   ],
   "source": [
    "y_vals = None\n",
    "y_vals\n",
    "# [483, 236, 80, 93, 52, 365, 73, 84, 359, 40, 76, 59]"
   ]
  },
  {
   "cell_type": "markdown",
   "metadata": {},
   "source": [
    "Now matplotlib will not accept `nan` as an x value, so use a loop to create a list of x values that does not include nan, and then use a loop to remove the corresponding y value."
   ]
  },
  {
   "cell_type": "code",
   "execution_count": 84,
   "metadata": {},
   "outputs": [],
   "source": [
    "x_vals_select = None\n",
    "x_vals_select\n",
    "# ['Action',\n",
    "#  'Adventure',\n",
    "#  'Fantasy',\n",
    "#  'Animation',\n",
    "#  'Science Fiction',\n",
    "#  'Drama',\n",
    "#  'Thriller',\n",
    "#  'Comedy',\n",
    "#  'Romance',\n",
    "#  'Crime',\n",
    "#  'Horror']"
   ]
  },
  {
   "cell_type": "code",
   "execution_count": 85,
   "metadata": {},
   "outputs": [],
   "source": [
    "y_vals_select = None"
   ]
  },
  {
   "cell_type": "code",
   "execution_count": 86,
   "metadata": {},
   "outputs": [],
   "source": [
    "y_vals_select\n",
    "\n",
    "# [483, 236, 80, 93, 52, 365, 73, 359, 40, 76, 59]"
   ]
  },
  {
   "cell_type": "markdown",
   "metadata": {},
   "source": [
    "Now we can plot this in matplotlib using a horizontal bar plot."
   ]
  },
  {
   "cell_type": "code",
   "execution_count": 3,
   "metadata": {},
   "outputs": [],
   "source": [
    "import matplotlib.pyplot as plt\n",
    "\n"
   ]
  },
  {
   "cell_type": "markdown",
   "metadata": {},
   "source": [
    "> Answer: <img src=\"hz-genre-plot.png\" width=\"50%\">"
   ]
  }
 ],
 "metadata": {
  "kernelspec": {
   "display_name": "Python 3",
   "language": "python",
   "name": "python3"
  },
  "language_info": {
   "codemirror_mode": {
    "name": "ipython",
    "version": 3
   },
   "file_extension": ".py",
   "mimetype": "text/x-python",
   "name": "python",
   "nbconvert_exporter": "python",
   "pygments_lexer": "ipython3",
   "version": "3.7.4"
  }
 },
 "nbformat": 4,
 "nbformat_minor": 4
}
