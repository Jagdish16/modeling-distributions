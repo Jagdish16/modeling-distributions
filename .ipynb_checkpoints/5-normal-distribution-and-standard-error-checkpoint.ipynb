{
 "cells": [
  {
   "cell_type": "markdown",
   "metadata": {},
   "source": [
    "# Normal Distribution and Standard Error"
   ]
  },
  {
   "cell_type": "markdown",
   "metadata": {},
   "source": [
    "### Introduction"
   ]
  },
  {
   "cell_type": "markdown",
   "metadata": {},
   "source": [
    "In a previous lesson we saw that, because of the central limit theorem, the distribution of the means of the sample distributions tends toward a normal distribution (informally a “bell curve”), irrespective of the shape of the population distribution.\n",
    "\n",
    "Now it's time to learn a little bit more about the normal distribution, and how we can put it to use."
   ]
  },
  {
   "cell_type": "markdown",
   "metadata": {},
   "source": [
    "### The normal distribution"
   ]
  },
  {
   "cell_type": "markdown",
   "metadata": {},
   "source": [
    "<img src=\"./pdf-normal.png\" width=\"40%\">"
   ]
  },
  {
   "cell_type": "markdown",
   "metadata": {},
   "source": [
    "Now above is the normal distribution.  More specifically, it's the probability density function of the normal distribution.  At the center we see $\\mu$, the center of a normally distributed population.  \n",
    "\n",
    "Now the percentages are indicating the area under the curve.  So in a normal distribution:\n",
    "* 68% of the values will always be within one standard deviation, plus or minus, of the mean\n",
    "* 95% of the values are within two standard deviations of the mean\n",
    "* 99.7 are within three standard deviations of the mean"
   ]
  },
  {
   "cell_type": "markdown",
   "metadata": {},
   "source": [
    "Now this becomes useful because if we want to see how rare a value is in our distribution, we can see how many standard deviations it is from the mean.\n",
    "\n",
    "For example:\n",
    "* What's the probability a value is more than 3 standard deviations away from the mean?\n",
    "> Well it's $.1$%.\n",
    "* Now try to answer the following question: what's the probability of a value being larger than the mean by one standard deviation or more?\n",
    "> Give it a shot."
   ]
  },
  {
   "cell_type": "markdown",
   "metadata": {},
   "source": [
    "### Calculating the Z-Score"
   ]
  },
  {
   "cell_type": "markdown",
   "metadata": {},
   "source": [
    "<img src=\"./pdf-normal.png\" width=\"40%\">"
   ]
  },
  {
   "cell_type": "markdown",
   "metadata": {},
   "source": [
    "Now so far we've seen that calculating how many standard deviations away a value is from mean can be very useful.  This number is called the z-score.  Let's learn about it by way of example.\n",
    "\n",
    "The weights of adult males are normally distributed with a mean of 172 pounds and a standard deviation of 29 pounds.  Mr. Rogers felt his [weight should be 143](https://parade.com/678244/lindsaylowe/mr-rogers-had-the-sweetest-way-of-saying-i-love-you-to-his-wife/).  If we randomly select a male adult, what's the probability his weight will be 143 or less.\n",
    "\n",
    "Well remember the idea is to find number of standard deviations away from the mean.  To do this, we can first find the difference from the mean.  And then divide by the standard deviation."
   ]
  },
  {
   "cell_type": "code",
   "execution_count": 5,
   "metadata": {},
   "outputs": [
    {
     "data": {
      "text/plain": [
       "-1.0"
      ]
     },
     "execution_count": 5,
     "metadata": {},
     "output_type": "execute_result"
    }
   ],
   "source": [
    "(143 - 172)/29"
   ]
  },
  {
   "cell_type": "markdown",
   "metadata": {},
   "source": [
    "So 143 is one standard deviation away from the mean.  That $-1$ is called the z-score.  And the general formula is \n",
    "\n",
    "$z = \\frac{(x - \\mu)}{\\sigma}$\n",
    "\n",
    "Once we calculate the z-score we can use our graph to calculate the probability of selecting a value that amount or less.  For example, for us, the probability of selecting a male adult that weighs 143  or less is 16%.  \n",
    "\n",
    "Because this is scipy returns this value with the CDF, we can also scipy.stats to answer this for us."
   ]
  },
  {
   "cell_type": "code",
   "execution_count": 7,
   "metadata": {},
   "outputs": [],
   "source": [
    "from scipy.stats import norm\n",
    "\n",
    "norm_weight_male = norm(172, 29)"
   ]
  },
  {
   "cell_type": "code",
   "execution_count": 8,
   "metadata": {},
   "outputs": [
    {
     "data": {
      "text/plain": [
       "0.15865525393145707"
      ]
     },
     "execution_count": 8,
     "metadata": {},
     "output_type": "execute_result"
    }
   ],
   "source": [
    "norm_weight_male.cdf(143)"
   ]
  },
  {
   "cell_type": "code",
   "execution_count": null,
   "metadata": {},
   "outputs": [],
   "source": []
  }
 ],
 "metadata": {
  "kernelspec": {
   "display_name": "Python 3",
   "language": "python",
   "name": "python3"
  },
  "language_info": {
   "codemirror_mode": {
    "name": "ipython",
    "version": 3
   },
   "file_extension": ".py",
   "mimetype": "text/x-python",
   "name": "python",
   "nbconvert_exporter": "python",
   "pygments_lexer": "ipython3",
   "version": "3.7.4"
  }
 },
 "nbformat": 4,
 "nbformat_minor": 4
}
