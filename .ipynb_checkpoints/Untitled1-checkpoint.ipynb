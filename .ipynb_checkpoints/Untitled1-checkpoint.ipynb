{
 "cells": [
  {
   "cell_type": "code",
   "execution_count": 1,
   "metadata": {},
   "outputs": [
    {
     "name": "stdout",
     "output_type": "stream",
     "text": [
      "0-defining-random-variables.ipynb   DataVizFloodsFV3.22.2017.xlsx\n",
      "1-pdfs-and-cdfs.ipynb               Untitled.ipynb\n",
      "2-random-variables-lab.ipynb        Untitled1.ipynb\n",
      "3-modeling-distributions.ipynb      discrete-cont-side.png\n",
      "4-modeling-distributions-lab.ipynb  discrete-vs-continuous.png\n",
      "5-distributions-overview.ipynb      nba_combined.csv\n",
      "7-distribution-notes.ipynb          normal-dist.png\n",
      "7-generating-rvs.ipynb              schools_2015.csv\n",
      "9-importing-data.ipynb              scores_grade_eight_2015.csv\n",
      "9-outliers.ipynb                    selected_middle_schools.csv\n",
      "9-pmfs.ipynb                        state_math_exam_by_school.csv\n",
      "9-precision.ipynb                   upload_DJIA_table.csv\n",
      "9-probability-and-odds.ipynb\n"
     ]
    }
   ],
   "source": [
    "ls"
   ]
  },
  {
   "cell_type": "code",
   "execution_count": 2,
   "metadata": {},
   "outputs": [],
   "source": [
    "import pandas as pd"
   ]
  },
  {
   "cell_type": "code",
   "execution_count": 3,
   "metadata": {},
   "outputs": [],
   "source": [
    "df = pd.read_csv('upload_DJIA_table.csv')"
   ]
  },
  {
   "cell_type": "code",
   "execution_count": 7,
   "metadata": {},
   "outputs": [],
   "source": [
    "movement = df['Open'] - df['Close']"
   ]
  },
  {
   "cell_type": "code",
   "execution_count": 8,
   "metadata": {},
   "outputs": [],
   "source": [
    "df_with_movement = df.assign(movement = movement)"
   ]
  },
  {
   "cell_type": "code",
   "execution_count": 10,
   "metadata": {},
   "outputs": [
    {
     "data": {
      "text/plain": [
       "<matplotlib.axes._subplots.AxesSubplot at 0x11c0f87d0>"
      ]
     },
     "execution_count": 10,
     "metadata": {},
     "output_type": "execute_result"
    },
    {
     "data": {
      "image/png": "[encoded data removed]",
      "text/plain": [
       "<Figure size 432x288 with 1 Axes>"
      ]
     },
     "metadata": {
      "needs_background": "light"
     },
     "output_type": "display_data"
    }
   ],
   "source": [
    "df_with_movement['movement'].hist()"
   ]
  },
  {
   "cell_type": "code",
   "execution_count": null,
   "metadata": {},
   "outputs": [],
   "source": []
  }
 ],
 "metadata": {
  "kernelspec": {
   "display_name": "Python 3",
   "language": "python",
   "name": "python3"
  },
  "language_info": {
   "codemirror_mode": {
    "name": "ipython",
    "version": 3
   },
   "file_extension": ".py",
   "mimetype": "text/x-python",
   "name": "python",
   "nbconvert_exporter": "python",
   "pygments_lexer": "ipython3",
   "version": "3.7.4"
  }
 },
 "nbformat": 4,
 "nbformat_minor": 4
}
