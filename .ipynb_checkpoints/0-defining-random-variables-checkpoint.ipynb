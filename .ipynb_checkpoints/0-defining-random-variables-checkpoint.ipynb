{
 "cells": [
  {
   "cell_type": "markdown",
   "metadata": {},
   "source": [
    "# Defining Random Variables"
   ]
  },
  {
   "cell_type": "markdown",
   "metadata": {},
   "source": [
    "### Introduction"
   ]
  },
  {
   "cell_type": "markdown",
   "metadata": {},
   "source": [
    "Now so far, we have seen how we can learn about a variable by plotting either a frequency distribution, and exploring summary statistics, or exploring the same information with a sample from the population.\n",
    "\n",
    "One way to describe our variable is as a random variable.  We'll learn how a random variable can help us to answer questions about variable in this lesson."
   ]
  },
  {
   "cell_type": "markdown",
   "metadata": {},
   "source": [
    "### Loading the data"
   ]
  },
  {
   "cell_type": "markdown",
   "metadata": {},
   "source": [
    "In this lesson we'll use NYC schools eighth grade scores for NY state's standardized math exam.  Let's load up the data."
   ]
  },
  {
   "cell_type": "code",
   "execution_count": 3,
   "metadata": {},
   "outputs": [],
   "source": [
    "import pandas as pd \n",
    "url = \"https://raw.githubusercontent.com/jigsawlabs-student/modeling-distributions/master/scores_grade_eight_2015.csv\"\n",
    "df = pd.read_csv(url, index_col = 0)"
   ]
  },
  {
   "cell_type": "code",
   "execution_count": 4,
   "metadata": {},
   "outputs": [
    {
     "data": {
      "text/plain": [
       "(472, 8)"
      ]
     },
     "execution_count": 4,
     "metadata": {},
     "output_type": "execute_result"
    }
   ],
   "source": [
    "df.shape"
   ]
  },
  {
   "cell_type": "code",
   "execution_count": 5,
   "metadata": {},
   "outputs": [
    {
     "data": {
      "text/html": [
       "<div>\n",
       "<style scoped>\n",
       "    .dataframe tbody tr th:only-of-type {\n",
       "        vertical-align: middle;\n",
       "    }\n",
       "\n",
       "    .dataframe tbody tr th {\n",
       "        vertical-align: top;\n",
       "    }\n",
       "\n",
       "    .dataframe thead th {\n",
       "        text-align: right;\n",
       "    }\n",
       "</style>\n",
       "<table border=\"1\" class=\"dataframe\">\n",
       "  <thead>\n",
       "    <tr style=\"text-align: right;\">\n",
       "      <th></th>\n",
       "      <th>DBN</th>\n",
       "      <th>School Name</th>\n",
       "      <th>Number Tested</th>\n",
       "      <th>Mean Scale Score</th>\n",
       "      <th># Level 1</th>\n",
       "      <th># Level 2</th>\n",
       "      <th># Level 3</th>\n",
       "      <th># Level 4</th>\n",
       "    </tr>\n",
       "  </thead>\n",
       "  <tbody>\n",
       "    <tr>\n",
       "      <th>53</th>\n",
       "      <td>01M034</td>\n",
       "      <td>P.S. 034 FRANKLIN D. ROOSEVELT</td>\n",
       "      <td>59</td>\n",
       "      <td>298.0</td>\n",
       "      <td>21.0</td>\n",
       "      <td>24.0</td>\n",
       "      <td>9.0</td>\n",
       "      <td>5.0</td>\n",
       "    </tr>\n",
       "    <tr>\n",
       "      <th>136</th>\n",
       "      <td>01M140</td>\n",
       "      <td>P.S. 140 NATHAN STRAUS</td>\n",
       "      <td>58</td>\n",
       "      <td>285.0</td>\n",
       "      <td>28.0</td>\n",
       "      <td>26.0</td>\n",
       "      <td>4.0</td>\n",
       "      <td>0.0</td>\n",
       "    </tr>\n",
       "    <tr>\n",
       "      <th>169</th>\n",
       "      <td>01M184</td>\n",
       "      <td>P.S. 184M SHUANG WEN</td>\n",
       "      <td>56</td>\n",
       "      <td>360.0</td>\n",
       "      <td>0.0</td>\n",
       "      <td>4.0</td>\n",
       "      <td>13.0</td>\n",
       "      <td>39.0</td>\n",
       "    </tr>\n",
       "  </tbody>\n",
       "</table>\n",
       "</div>"
      ],
      "text/plain": [
       "        DBN                     School Name  Number Tested  Mean Scale Score  \\\n",
       "53   01M034  P.S. 034 FRANKLIN D. ROOSEVELT             59             298.0   \n",
       "136  01M140          P.S. 140 NATHAN STRAUS             58             285.0   \n",
       "169  01M184            P.S. 184M SHUANG WEN             56             360.0   \n",
       "\n",
       "     # Level 1  # Level 2  # Level 3  # Level 4  \n",
       "53        21.0       24.0        9.0        5.0  \n",
       "136       28.0       26.0        4.0        0.0  \n",
       "169        0.0        4.0       13.0       39.0  "
      ]
     },
     "execution_count": 5,
     "metadata": {},
     "output_type": "execute_result"
    }
   ],
   "source": [
    "df[:3]"
   ]
  },
  {
   "cell_type": "markdown",
   "metadata": {},
   "source": [
    "From here, we can use numpy to select a sample from our dataframe."
   ]
  },
  {
   "cell_type": "code",
   "execution_count": 6,
   "metadata": {},
   "outputs": [],
   "source": [
    "sample_df = df.sample(n = 100, random_state = 5)"
   ]
  },
  {
   "cell_type": "code",
   "execution_count": 7,
   "metadata": {},
   "outputs": [
    {
     "data": {
      "text/html": [
       "<div>\n",
       "<style scoped>\n",
       "    .dataframe tbody tr th:only-of-type {\n",
       "        vertical-align: middle;\n",
       "    }\n",
       "\n",
       "    .dataframe tbody tr th {\n",
       "        vertical-align: top;\n",
       "    }\n",
       "\n",
       "    .dataframe thead th {\n",
       "        text-align: right;\n",
       "    }\n",
       "</style>\n",
       "<table border=\"1\" class=\"dataframe\">\n",
       "  <thead>\n",
       "    <tr style=\"text-align: right;\">\n",
       "      <th></th>\n",
       "      <th>DBN</th>\n",
       "      <th>School Name</th>\n",
       "      <th>Number Tested</th>\n",
       "      <th>Mean Scale Score</th>\n",
       "      <th># Level 1</th>\n",
       "      <th># Level 2</th>\n",
       "      <th># Level 3</th>\n",
       "      <th># Level 4</th>\n",
       "    </tr>\n",
       "  </thead>\n",
       "  <tbody>\n",
       "    <tr>\n",
       "      <th>13675</th>\n",
       "      <td>31R027</td>\n",
       "      <td>I.S. 027 ANNING S. PRALL</td>\n",
       "      <td>385</td>\n",
       "      <td>295.0</td>\n",
       "      <td>158.0</td>\n",
       "      <td>133.0</td>\n",
       "      <td>63.0</td>\n",
       "      <td>31.0</td>\n",
       "    </tr>\n",
       "    <tr>\n",
       "      <th>6491</th>\n",
       "      <td>14K318</td>\n",
       "      <td>I.S. 318 EUGENIO MARIA DE HOSTOS</td>\n",
       "      <td>328</td>\n",
       "      <td>289.0</td>\n",
       "      <td>116.0</td>\n",
       "      <td>184.0</td>\n",
       "      <td>27.0</td>\n",
       "      <td>1.0</td>\n",
       "    </tr>\n",
       "    <tr>\n",
       "      <th>10264</th>\n",
       "      <td>24Q061</td>\n",
       "      <td>I.S. 061 LEONARDO DA VINCI</td>\n",
       "      <td>768</td>\n",
       "      <td>295.0</td>\n",
       "      <td>295.0</td>\n",
       "      <td>318.0</td>\n",
       "      <td>102.0</td>\n",
       "      <td>53.0</td>\n",
       "    </tr>\n",
       "  </tbody>\n",
       "</table>\n",
       "</div>"
      ],
      "text/plain": [
       "          DBN                       School Name  Number Tested  \\\n",
       "13675  31R027          I.S. 027 ANNING S. PRALL            385   \n",
       "6491   14K318  I.S. 318 EUGENIO MARIA DE HOSTOS            328   \n",
       "10264  24Q061        I.S. 061 LEONARDO DA VINCI            768   \n",
       "\n",
       "       Mean Scale Score  # Level 1  # Level 2  # Level 3  # Level 4  \n",
       "13675             295.0      158.0      133.0       63.0       31.0  \n",
       "6491              289.0      116.0      184.0       27.0        1.0  \n",
       "10264             295.0      295.0      318.0      102.0       53.0  "
      ]
     },
     "execution_count": 7,
     "metadata": {},
     "output_type": "execute_result"
    }
   ],
   "source": [
    "sample_df[:3]"
   ]
  },
  {
   "cell_type": "markdown",
   "metadata": {},
   "source": [
    "### Breaking down the problem"
   ]
  },
  {
   "cell_type": "markdown",
   "metadata": {},
   "source": [
    "So here's how we'd like to use this data.\n",
    "\n",
    "Let's say that our older sister, Michelle, is considering a move to NYC, and that she currently live in Albany.  She wants to make sure that if she move, her child, Emmet, doesn't get placed at a significantly worse school.  Emmet's school had an average score of 310 in 2015 (when our data is from).\n",
    "\n",
    "Ok, now let's try to be a bit formal in the way that we break down this problem.  We'll frame the problem of consisting of an **experiment**, that has will have an **outcome** from the **sample space**, which can either be **continuous or discrete**.  We'll explain:"
   ]
  },
  {
   "cell_type": "markdown",
   "metadata": {},
   "source": [
    "1. An experiment/trial\n",
    "\n",
    "> In probability theory, an **experiment or trial** is any procedure that can be infinitely repeated and has a well-defined set of possible outcomes.\n",
    "\n",
    "* The assignment of Emmet to a school is called an *experiment* or *trial*."
   ]
  },
  {
   "cell_type": "markdown",
   "metadata": {},
   "source": [
    "2. An outcome\n",
    "* The average math score of Emmet's school is called an outcome.\n",
    "> An **outcome** is the result of an experiment."
   ]
  },
  {
   "cell_type": "markdown",
   "metadata": {},
   "source": [
    "3. Sample space\n",
    "> The sample space is the set of all possible outcomes to an experiment.\n",
    "\n",
    "* So the set of all possible average scores Emmet's school can have is the sample space of the experiment.  The range of scores on the test is between 148 and 423, so the average score Emmet's school can have is any number in between.\n",
    "\n",
    "* $\\Omega = [148, 423]$"
   ]
  },
  {
   "cell_type": "markdown",
   "metadata": {},
   "source": [
    "> Capital omega is used to represent the sample space.  The square brackets mean the range is inclusive.  To represent exclusive, rounded brackets can be used. $\\Omega = [148, 423)$ means 148 to 423, but not including 423."
   ]
  },
  {
   "cell_type": "markdown",
   "metadata": {},
   "source": [
    "4. Continuous or Discrete\n",
    "\n",
    "It's useful to get a sense of if the sample space is continuous or discrete.  "
   ]
  },
  {
   "cell_type": "markdown",
   "metadata": {},
   "source": [
    "<img src=\"./discrete-cont-side.png\" width=\"50%\">"
   ]
  },
  {
   "cell_type": "markdown",
   "metadata": {},
   "source": [
    "A. Discrete \n",
    "* A sample space is **discrete** if there are *countably many outcomes*.  \n",
    "The number of shots a basketball player makes in a game is discrete.  A basketball player can make 20 shots, but not 20.1, or 35.9.\n",
    "\n",
    "B. Continuous\n",
    "\n",
    "* A sample space is **continous** if the set of outcomes consists of any value between the minimum value and maximum value in the sample space.\n",
    "\n",
    "For example, the weight of an individual is continous.  It can take on any value above zero.  It's the same thing for the height.  Here, because we our sample space consists of the set of the *average scores* Emmet's school can have, this sample space is continuous. "
   ]
  },
  {
   "cell_type": "markdown",
   "metadata": {},
   "source": [
    "### Probability distributions and Random Variable"
   ]
  },
  {
   "cell_type": "markdown",
   "metadata": {},
   "source": [
    "The average math score of Emmet's assigned school is an example of a *random variable*."
   ]
  },
  {
   "cell_type": "markdown",
   "metadata": {},
   "source": [
    "> A **random variable** is described informally as a variable whose values depend on outcomes of a random phenomenon. - [Wikipedia](https://en.wikipedia.org/wiki/Random_variable)"
   ]
  },
  {
   "cell_type": "markdown",
   "metadata": {},
   "source": [
    "Random variables occur all over the place.  For example, if we want to see get a sense of how tall a newborn may grow to be, we know one component of this is due to random chance.  And therefore this another example of a random variable.  Here, the average math score of Emmet's assigned school is an example of a random variable."
   ]
  },
  {
   "cell_type": "markdown",
   "metadata": {},
   "source": [
    "> Once more a **random variable** is described a variable whose values depend on outcomes of a random phenomenon."
   ]
  },
  {
   "cell_type": "markdown",
   "metadata": {},
   "source": [
    "Let's represent this random variable as $X$."
   ]
  },
  {
   "cell_type": "markdown",
   "metadata": {},
   "source": [
    "> $X = $  the math score of Emmet's assigned school."
   ]
  },
  {
   "cell_type": "markdown",
   "metadata": {},
   "source": [
    "Now we can ask questions of the random variable.  For example, if we want to ask the the probability that Emmet's school's score is 310, we would say:\n",
    "\n",
    "* $P(X = 310)$"
   ]
  },
  {
   "cell_type": "markdown",
   "metadata": {},
   "source": [
    "And the probability that the school's score is 300 is:\n",
    "\n",
    "* $P(X = 300)$"
   ]
  },
  {
   "cell_type": "markdown",
   "metadata": {},
   "source": [
    "Now to represent the probability of that this random variable takes on any value in the sample space, we use the probability distribution function:"
   ]
  },
  {
   "cell_type": "markdown",
   "metadata": {},
   "source": [
    "> The **probability distribution function** of a random variable is a mathematical function that provides the probabilities of occurrence of different possible outcomes in that random variable."
   ]
  },
  {
   "cell_type": "markdown",
   "metadata": {},
   "source": [
    "> If our random variable is continuous, we call this the **probability density funtion**."
   ]
  },
  {
   "cell_type": "markdown",
   "metadata": {},
   "source": [
    "To show the probability distribution function our defined random variable $X$ above, we can simply plot the different math average math scores a school in NYC can take, and the probability of each score."
   ]
  },
  {
   "cell_type": "markdown",
   "metadata": {},
   "source": [
    "> Here we'll just look to our sample to get those probabilities."
   ]
  },
  {
   "cell_type": "code",
   "execution_count": 18,
   "metadata": {},
   "outputs": [
    {
     "data": {
      "image/png": "[encoded data removed]",
      "text/plain": [
       "<Figure size 432x288 with 1 Axes>"
      ]
     },
     "metadata": {
      "needs_background": "light"
     },
     "output_type": "display_data"
    }
   ],
   "source": [
    "import matplotlib.pyplot as plt\n",
    "\n",
    "ax = avg_score.hist(density = True)\n",
    "ax.set(xlabel = 'avg math score', ylabel = 'probability')\n",
    "pdf_fig = plt.gcf()"
   ]
  },
  {
   "cell_type": "markdown",
   "metadata": {},
   "source": [
    "> The key line is: `ax = avg_score.hist(density = True)`"
   ]
  },
  {
   "cell_type": "markdown",
   "metadata": {},
   "source": [
    "So the above is a plot of the probability distribution function for our random variable $X$.  Let's make sure that we can interpret the above.  Across the bottom are the range of values in our sample space and vertically we are representing the corresponding probability of each outcome."
   ]
  },
  {
   "cell_type": "markdown",
   "metadata": {},
   "source": [
    "So we can read the graph above as saying there's a $.21$ probability that Emmet's school's math score is 300."
   ]
  },
  {
   "cell_type": "markdown",
   "metadata": {},
   "source": [
    "* $P(X = 300) = .21$"
   ]
  },
  {
   "cell_type": "markdown",
   "metadata": {},
   "source": [
    "How did we get the probability distribution above.  We just took counts of all the values (our frequency distribution), and divided it by the size of our sample.  This shows us **relative frequencies** of each outcome in our distribution's sample space."
   ]
  },
  {
   "cell_type": "markdown",
   "metadata": {},
   "source": [
    "> Pandas can do this for us."
   ]
  },
  {
   "cell_type": "code",
   "execution_count": 23,
   "metadata": {},
   "outputs": [
    {
     "data": {
      "text/plain": [
       "245.0    0.010101\n",
       "250.0    0.010101\n",
       "254.0    0.010101\n",
       "259.0    0.010101\n",
       "262.0    0.010101\n",
       "264.0    0.030303\n",
       "265.0    0.010101\n",
       "266.0    0.010101\n",
       "269.0    0.030303\n",
       "270.0    0.010101\n",
       "Name: Mean Scale Score, dtype: float64"
      ]
     },
     "execution_count": 23,
     "metadata": {},
     "output_type": "execute_result"
    }
   ],
   "source": [
    "avg_score.value_counts(normalize = True).sort_index().iloc[:10]"
   ]
  },
  {
   "cell_type": "markdown",
   "metadata": {},
   "source": [
    "So this is just our probability distribution function again, this time in a table form (as opposed to a graph).  The value and the corresponding probability.  The return value from the `value_counts(normalize=True)` also returns to us our probability distribution function for a random variable."
   ]
  },
  {
   "cell_type": "markdown",
   "metadata": {},
   "source": [
    "> Every outcome in the sample space that is not that is not listed, we can set equal to zero."
   ]
  },
  {
   "cell_type": "markdown",
   "metadata": {},
   "source": [
    "Now that in calling this our probability distribution function, we are making a pretty large assumption - that these relative frequencies in our sample are also the probabilities of occurrence in the future.  But for now, it's ok.    "
   ]
  },
  {
   "cell_type": "markdown",
   "metadata": {},
   "source": [
    "### Summary"
   ]
  },
  {
   "cell_type": "markdown",
   "metadata": {},
   "source": [
    "In this lesson we learned about random variables.  A random variable as a variable whose values depend on outcomes of a random phenomenon.  A random variable has a sample space, which is the set of all possible outcomes.  And that sample space can be either continuous or discrete.  \n",
    "\n",
    "A sample space is continous if the set of outcomes consists of any value between the minimum value and maximum value in the sample space.   A sample space is discrete if there are countably many outcomes. "
   ]
  },
  {
   "cell_type": "markdown",
   "metadata": {},
   "source": [
    "<img src=\"./discrete-cont-side.png\" width=\"30%\">"
   ]
  },
  {
   "cell_type": "markdown",
   "metadata": {},
   "source": [
    "Here, we defined our random variable $X$ where $X = $  the math score of Emmet's assigned school."
   ]
  },
  {
   "cell_type": "markdown",
   "metadata": {},
   "source": [
    "Each random variable has a probability distribution function, which is a mathematical function that provides the probabilities of occurrence of different possible outcomes in an experiment.  Here, we used the relative frequencies in our random sample to define the probability distribution function."
   ]
  },
  {
   "cell_type": "code",
   "execution_count": 25,
   "metadata": {},
   "outputs": [
    {
     "data": {
      "text/plain": [
       "245.0    0.010101\n",
       "250.0    0.010101\n",
       "254.0    0.010101\n",
       "259.0    0.010101\n",
       "262.0    0.010101\n",
       "264.0    0.030303\n",
       "265.0    0.010101\n",
       "266.0    0.010101\n",
       "269.0    0.030303\n",
       "270.0    0.010101\n",
       "Name: Mean Scale Score, dtype: float64"
      ]
     },
     "execution_count": 25,
     "metadata": {},
     "output_type": "execute_result"
    }
   ],
   "source": [
    "avg_score.value_counts(normalize = True).sort_index().iloc[:10]"
   ]
  },
  {
   "cell_type": "markdown",
   "metadata": {},
   "source": [
    "Or in graph form:"
   ]
  },
  {
   "cell_type": "code",
   "execution_count": 26,
   "metadata": {},
   "outputs": [
    {
     "data": {
      "image/png": "[encoded data removed]",
      "text/plain": [
       "<Figure size 432x288 with 1 Axes>"
      ]
     },
     "metadata": {
      "needs_background": "light"
     },
     "output_type": "display_data"
    }
   ],
   "source": [
    "import matplotlib.pyplot as plt\n",
    "\n",
    "ax = avg_score.hist(density = True)\n",
    "ax.set(xlabel = 'avg math score', ylabel = 'probability')\n",
    "pdf_fig = plt.gcf()"
   ]
  }
 ],
 "metadata": {
  "kernelspec": {
   "display_name": "Python 3",
   "language": "python",
   "name": "python3"
  },
  "language_info": {
   "codemirror_mode": {
    "name": "ipython",
    "version": 3
   },
   "file_extension": ".py",
   "mimetype": "text/x-python",
   "name": "python",
   "nbconvert_exporter": "python",
   "pygments_lexer": "ipython3",
   "version": "3.7.4"
  }
 },
 "nbformat": 4,
 "nbformat_minor": 4
}
