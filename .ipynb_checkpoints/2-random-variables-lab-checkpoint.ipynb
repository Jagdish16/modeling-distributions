{
 "cells": [
  {
   "cell_type": "markdown",
   "metadata": {},
   "source": [
    "# Random Variables Lab"
   ]
  },
  {
   "cell_type": "markdown",
   "metadata": {},
   "source": [
    "### Introduction"
   ]
  },
  {
   "cell_type": "markdown",
   "metadata": {},
   "source": [
    "In previous lessons, we learned about working with random variables.  Now imagine that we work at Duke University, where a number of college basketball players each year consider declaring for the NBA draft.  We have a college basketball player who is trying to decide whether to declare, and would like us to do some analysis.  We are confident that if he declares for the draft, he will be drafted in the second round.  He wants us to give us a sense of how many years he can expect to play for in the NBA given that he is a second round draft pick."
   ]
  },
  {
   "cell_type": "markdown",
   "metadata": {},
   "source": [
    "### Loading our Data"
   ]
  },
  {
   "cell_type": "markdown",
   "metadata": {},
   "source": [
    "Let's begin by loading our data."
   ]
  },
  {
   "cell_type": "code",
   "execution_count": 5,
   "metadata": {},
   "outputs": [],
   "source": [
    "import pandas as pd\n",
    "url = \"https://raw.githubusercontent.com/the-pudding/data/master/hype/players.csv\"\n",
    "players_df = pd.read_csv(url)"
   ]
  },
  {
   "cell_type": "code",
   "execution_count": 6,
   "metadata": {},
   "outputs": [
    {
     "data": {
      "text/html": [
       "<div>\n",
       "<style scoped>\n",
       "    .dataframe tbody tr th:only-of-type {\n",
       "        vertical-align: middle;\n",
       "    }\n",
       "\n",
       "    .dataframe tbody tr th {\n",
       "        vertical-align: top;\n",
       "    }\n",
       "\n",
       "    .dataframe thead th {\n",
       "        text-align: right;\n",
       "    }\n",
       "</style>\n",
       "<table border=\"1\" class=\"dataframe\">\n",
       "  <thead>\n",
       "    <tr style=\"text-align: right;\">\n",
       "      <th></th>\n",
       "      <th>name</th>\n",
       "      <th>link</th>\n",
       "      <th>rank</th>\n",
       "      <th>draft_year</th>\n",
       "      <th>draft_rd</th>\n",
       "      <th>draft_pk</th>\n",
       "      <th>college</th>\n",
       "      <th>recruit_year</th>\n",
       "      <th>bbrID</th>\n",
       "      <th>pick_overall</th>\n",
       "      <th>...</th>\n",
       "      <th>nba_mean_ws48_rank</th>\n",
       "      <th>nba_mean_vorp_rank</th>\n",
       "      <th>nba_mean_pipm_rank</th>\n",
       "      <th>nba_mean_wa_rank</th>\n",
       "      <th>top_mean_ws48_rank</th>\n",
       "      <th>top_mean_vorp_rank</th>\n",
       "      <th>top_mean_pipm_rank</th>\n",
       "      <th>top_mean_wa_rank</th>\n",
       "      <th>total_seasons</th>\n",
       "      <th>valid_seasons</th>\n",
       "    </tr>\n",
       "  </thead>\n",
       "  <tbody>\n",
       "    <tr>\n",
       "      <th>0</th>\n",
       "      <td>Al Harrington</td>\n",
       "      <td>/players/h/harrial01.html</td>\n",
       "      <td>1.0</td>\n",
       "      <td>1998.0</td>\n",
       "      <td>1.0</td>\n",
       "      <td>25.0</td>\n",
       "      <td>NaN</td>\n",
       "      <td>1998.0</td>\n",
       "      <td>harrial01</td>\n",
       "      <td>25.0</td>\n",
       "      <td>...</td>\n",
       "      <td>134.363636</td>\n",
       "      <td>129.727273</td>\n",
       "      <td>122.181818</td>\n",
       "      <td>118.727273</td>\n",
       "      <td>109.6</td>\n",
       "      <td>114.0</td>\n",
       "      <td>86.8</td>\n",
       "      <td>79.8</td>\n",
       "      <td>16.0</td>\n",
       "      <td>11.0</td>\n",
       "    </tr>\n",
       "    <tr>\n",
       "      <th>1</th>\n",
       "      <td>Rashard Lewis</td>\n",
       "      <td>/players/l/lewisra02.html</td>\n",
       "      <td>2.0</td>\n",
       "      <td>1998.0</td>\n",
       "      <td>2.0</td>\n",
       "      <td>32.0</td>\n",
       "      <td>NaN</td>\n",
       "      <td>1998.0</td>\n",
       "      <td>lewisra02</td>\n",
       "      <td>32.0</td>\n",
       "      <td>...</td>\n",
       "      <td>55.916667</td>\n",
       "      <td>44.416667</td>\n",
       "      <td>56.083333</td>\n",
       "      <td>55.166667</td>\n",
       "      <td>32.4</td>\n",
       "      <td>21.8</td>\n",
       "      <td>19.4</td>\n",
       "      <td>18.2</td>\n",
       "      <td>16.0</td>\n",
       "      <td>12.0</td>\n",
       "    </tr>\n",
       "    <tr>\n",
       "      <th>2</th>\n",
       "      <td>Korleone Young</td>\n",
       "      <td>/players/y/youngko01.html</td>\n",
       "      <td>3.0</td>\n",
       "      <td>1998.0</td>\n",
       "      <td>2.0</td>\n",
       "      <td>40.0</td>\n",
       "      <td>NaN</td>\n",
       "      <td>1998.0</td>\n",
       "      <td>youngko01</td>\n",
       "      <td>40.0</td>\n",
       "      <td>...</td>\n",
       "      <td>NaN</td>\n",
       "      <td>NaN</td>\n",
       "      <td>NaN</td>\n",
       "      <td>NaN</td>\n",
       "      <td>NaN</td>\n",
       "      <td>NaN</td>\n",
       "      <td>NaN</td>\n",
       "      <td>NaN</td>\n",
       "      <td>1.0</td>\n",
       "      <td>0.0</td>\n",
       "    </tr>\n",
       "  </tbody>\n",
       "</table>\n",
       "<p>3 rows × 30 columns</p>\n",
       "</div>"
      ],
      "text/plain": [
       "             name                       link  rank  draft_year  draft_rd  \\\n",
       "0   Al Harrington  /players/h/harrial01.html   1.0      1998.0       1.0   \n",
       "1   Rashard Lewis  /players/l/lewisra02.html   2.0      1998.0       2.0   \n",
       "2  Korleone Young  /players/y/youngko01.html   3.0      1998.0       2.0   \n",
       "\n",
       "   draft_pk college  recruit_year      bbrID  pick_overall  ...  \\\n",
       "0      25.0     NaN        1998.0  harrial01          25.0  ...   \n",
       "1      32.0     NaN        1998.0  lewisra02          32.0  ...   \n",
       "2      40.0     NaN        1998.0  youngko01          40.0  ...   \n",
       "\n",
       "   nba_mean_ws48_rank  nba_mean_vorp_rank  nba_mean_pipm_rank  \\\n",
       "0          134.363636          129.727273          122.181818   \n",
       "1           55.916667           44.416667           56.083333   \n",
       "2                 NaN                 NaN                 NaN   \n",
       "\n",
       "   nba_mean_wa_rank  top_mean_ws48_rank  top_mean_vorp_rank  \\\n",
       "0        118.727273               109.6               114.0   \n",
       "1         55.166667                32.4                21.8   \n",
       "2               NaN                 NaN                 NaN   \n",
       "\n",
       "   top_mean_pipm_rank  top_mean_wa_rank  total_seasons  valid_seasons  \n",
       "0                86.8              79.8           16.0           11.0  \n",
       "1                19.4              18.2           16.0           12.0  \n",
       "2                 NaN               NaN            1.0            0.0  \n",
       "\n",
       "[3 rows x 30 columns]"
      ]
     },
     "execution_count": 6,
     "metadata": {},
     "output_type": "execute_result"
    }
   ],
   "source": [
    "players_df[:3]"
   ]
  },
  {
   "cell_type": "code",
   "execution_count": 7,
   "metadata": {},
   "outputs": [
    {
     "data": {
      "text/plain": [
       "(1873, 30)"
      ]
     },
     "execution_count": 7,
     "metadata": {},
     "output_type": "execute_result"
    }
   ],
   "source": [
    "players_df.shape"
   ]
  },
  {
   "cell_type": "markdown",
   "metadata": {},
   "source": [
    "What we have is a dataframe consisting of 1800 drafted players.  Let's select some of the most relevant columns."
   ]
  },
  {
   "cell_type": "code",
   "execution_count": 8,
   "metadata": {},
   "outputs": [],
   "source": [
    "cols = ['name', 'draft_year', 'pick_round', 'total_seasons', 'valid_seasons']\n",
    "selected_df = players_df[cols]"
   ]
  },
  {
   "cell_type": "code",
   "execution_count": 9,
   "metadata": {},
   "outputs": [
    {
     "data": {
      "text/html": [
       "<div>\n",
       "<style scoped>\n",
       "    .dataframe tbody tr th:only-of-type {\n",
       "        vertical-align: middle;\n",
       "    }\n",
       "\n",
       "    .dataframe tbody tr th {\n",
       "        vertical-align: top;\n",
       "    }\n",
       "\n",
       "    .dataframe thead th {\n",
       "        text-align: right;\n",
       "    }\n",
       "</style>\n",
       "<table border=\"1\" class=\"dataframe\">\n",
       "  <thead>\n",
       "    <tr style=\"text-align: right;\">\n",
       "      <th></th>\n",
       "      <th>name</th>\n",
       "      <th>draft_year</th>\n",
       "      <th>pick_round</th>\n",
       "      <th>total_seasons</th>\n",
       "      <th>valid_seasons</th>\n",
       "    </tr>\n",
       "  </thead>\n",
       "  <tbody>\n",
       "    <tr>\n",
       "      <th>0</th>\n",
       "      <td>Al Harrington</td>\n",
       "      <td>1998.0</td>\n",
       "      <td>1.0</td>\n",
       "      <td>16.0</td>\n",
       "      <td>11.0</td>\n",
       "    </tr>\n",
       "    <tr>\n",
       "      <th>1</th>\n",
       "      <td>Rashard Lewis</td>\n",
       "      <td>1998.0</td>\n",
       "      <td>2.0</td>\n",
       "      <td>16.0</td>\n",
       "      <td>12.0</td>\n",
       "    </tr>\n",
       "    <tr>\n",
       "      <th>2</th>\n",
       "      <td>Korleone Young</td>\n",
       "      <td>1998.0</td>\n",
       "      <td>2.0</td>\n",
       "      <td>1.0</td>\n",
       "      <td>0.0</td>\n",
       "    </tr>\n",
       "  </tbody>\n",
       "</table>\n",
       "</div>"
      ],
      "text/plain": [
       "             name  draft_year  pick_round  total_seasons  valid_seasons\n",
       "0   Al Harrington      1998.0         1.0           16.0           11.0\n",
       "1   Rashard Lewis      1998.0         2.0           16.0           12.0\n",
       "2  Korleone Young      1998.0         2.0            1.0            0.0"
      ]
     },
     "execution_count": 9,
     "metadata": {},
     "output_type": "execute_result"
    }
   ],
   "source": [
    "selected_df[:3]"
   ]
  },
  {
   "cell_type": "markdown",
   "metadata": {},
   "source": [
    "OK, now that we've scoped down some of the columns, let's scope down some of the rows.  We only care about players picked in the second round, because that's the round our student will be drafted in.  And we only care about players drafted in 2005 or later.  \n",
    "\n",
    "Scope down the data accordingly."
   ]
  },
  {
   "cell_type": "code",
   "execution_count": 10,
   "metadata": {},
   "outputs": [],
   "source": [
    "selected_players = None"
   ]
  },
  {
   "cell_type": "code",
   "execution_count": 11,
   "metadata": {},
   "outputs": [
    {
     "data": {
      "text/plain": [
       "(205, 5)"
      ]
     },
     "execution_count": 11,
     "metadata": {},
     "output_type": "execute_result"
    }
   ],
   "source": [
    "selected_players.shape"
   ]
  },
  {
   "cell_type": "code",
   "execution_count": 12,
   "metadata": {},
   "outputs": [
    {
     "data": {
      "text/html": [
       "<div>\n",
       "<style scoped>\n",
       "    .dataframe tbody tr th:only-of-type {\n",
       "        vertical-align: middle;\n",
       "    }\n",
       "\n",
       "    .dataframe tbody tr th {\n",
       "        vertical-align: top;\n",
       "    }\n",
       "\n",
       "    .dataframe thead th {\n",
       "        text-align: right;\n",
       "    }\n",
       "</style>\n",
       "<table border=\"1\" class=\"dataframe\">\n",
       "  <thead>\n",
       "    <tr style=\"text-align: right;\">\n",
       "      <th></th>\n",
       "      <th>name</th>\n",
       "      <th>draft_year</th>\n",
       "      <th>pick_round</th>\n",
       "      <th>total_seasons</th>\n",
       "      <th>valid_seasons</th>\n",
       "    </tr>\n",
       "  </thead>\n",
       "  <tbody>\n",
       "    <tr>\n",
       "      <th>222</th>\n",
       "      <td>Orien Greene</td>\n",
       "      <td>2005.0</td>\n",
       "      <td>2.0</td>\n",
       "      <td>6.0</td>\n",
       "      <td>0.0</td>\n",
       "    </tr>\n",
       "    <tr>\n",
       "      <th>317</th>\n",
       "      <td>James White</td>\n",
       "      <td>2006.0</td>\n",
       "      <td>2.0</td>\n",
       "      <td>7.0</td>\n",
       "      <td>0.0</td>\n",
       "    </tr>\n",
       "    <tr>\n",
       "      <th>323</th>\n",
       "      <td>Dijon Thompson</td>\n",
       "      <td>2005.0</td>\n",
       "      <td>2.0</td>\n",
       "      <td>2.0</td>\n",
       "      <td>0.0</td>\n",
       "    </tr>\n",
       "  </tbody>\n",
       "</table>\n",
       "</div>"
      ],
      "text/plain": [
       "               name  draft_year  pick_round  total_seasons  valid_seasons\n",
       "222    Orien Greene      2005.0         2.0            6.0            0.0\n",
       "317     James White      2006.0         2.0            7.0            0.0\n",
       "323  Dijon Thompson      2005.0         2.0            2.0            0.0"
      ]
     },
     "execution_count": 12,
     "metadata": {},
     "output_type": "execute_result"
    }
   ],
   "source": [
    "selected_players[:3]"
   ]
  },
  {
   "cell_type": "code",
   "execution_count": 36,
   "metadata": {},
   "outputs": [
    {
     "data": {
      "text/plain": [
       "2011.0    24\n",
       "2010.0    23\n",
       "2013.0    22\n",
       "2008.0    21\n",
       "2007.0    20\n",
       "2012.0    20\n",
       "2014.0    19\n",
       "2006.0    19\n",
       "2005.0    19\n",
       "2009.0    18\n",
       "Name: draft_year, dtype: int64"
      ]
     },
     "execution_count": 36,
     "metadata": {},
     "output_type": "execute_result"
    }
   ],
   "source": [
    "selected_players['draft_year'].value_counts()"
   ]
  },
  {
   "cell_type": "markdown",
   "metadata": {},
   "source": [
    "Ok, so now we have the set of players drafted in the second round between 2005 and 2014.  Let's start by plotting a frequency distribution of the number of years that a player drafted in the second round played in the NBA."
   ]
  },
  {
   "cell_type": "code",
   "execution_count": null,
   "metadata": {},
   "outputs": [],
   "source": []
  },
  {
   "cell_type": "markdown",
   "metadata": {},
   "source": [
    "Answer: <img src=\"./frequency-dist-players.png\" width=\"50%\">"
   ]
  },
  {
   "cell_type": "markdown",
   "metadata": {},
   "source": [
    "Next let's plot the probability density function for total leasons in the second round."
   ]
  },
  {
   "cell_type": "code",
   "execution_count": null,
   "metadata": {},
   "outputs": [],
   "source": []
  },
  {
   "cell_type": "markdown",
   "metadata": {},
   "source": [
    "Answer: <img src=\"./density-players.png\" width=\"50%\">"
   ]
  },
  {
   "cell_type": "markdown",
   "metadata": {},
   "source": [
    "### Random Variables PDFs and CDFs"
   ]
  },
  {
   "cell_type": "markdown",
   "metadata": {},
   "source": [
    "It's time we added a bit of formalism to our problem."
   ]
  },
  {
   "cell_type": "markdown",
   "metadata": {},
   "source": [
    "1. What is the lower bound of the sample space for our problem."
   ]
  },
  {
   "cell_type": "markdown",
   "metadata": {},
   "source": [
    "2. Is our sample space continuous or discrete?"
   ]
  },
  {
   "cell_type": "markdown",
   "metadata": {},
   "source": [
    "3. Define a random variable $X$ to frame our problem\n",
    "\n",
    "$X = $"
   ]
  },
  {
   "cell_type": "markdown",
   "metadata": {},
   "source": [
    "Now, use the pandas to find the $P(X = 3)$"
   ]
  },
  {
   "cell_type": "code",
   "execution_count": 39,
   "metadata": {},
   "outputs": [
    {
     "data": {
      "text/plain": [
       "0.09523809523809523"
      ]
     },
     "execution_count": 39,
     "metadata": {},
     "output_type": "execute_result"
    }
   ],
   "source": [
    "p_x_is_3 = None\n",
    "p_x_is_3\n",
    "# 0.0952"
   ]
  },
  {
   "cell_type": "markdown",
   "metadata": {},
   "source": [
    "Next use the pandas to find the $P(X \\le 3)$"
   ]
  },
  {
   "cell_type": "code",
   "execution_count": 42,
   "metadata": {},
   "outputs": [
    {
     "data": {
      "text/plain": [
       "0.5132275132275133"
      ]
     },
     "execution_count": 42,
     "metadata": {},
     "output_type": "execute_result"
    }
   ],
   "source": [
    "p_x_less_3 = None\n",
    "p_x_less_3\n",
    "# 0.513"
   ]
  },
  {
   "cell_type": "markdown",
   "metadata": {},
   "source": [
    "### Summary"
   ]
  },
  {
   "cell_type": "markdown",
   "metadata": {},
   "source": [
    "In this lesson we used data about NBA players to define a random variable $X$ that represented the number of years that a player drafted in the second round would play in the NBA.  Then we used that random variable's probability distribution function, and cumulative distribution function to find the probability that the player's career would be for exactly a certain number number of years, or less than a certain number of years."
   ]
  }
 ],
 "metadata": {
  "kernelspec": {
   "display_name": "Python 3",
   "language": "python",
   "name": "python3"
  },
  "language_info": {
   "codemirror_mode": {
    "name": "ipython",
    "version": 3
   },
   "file_extension": ".py",
   "mimetype": "text/x-python",
   "name": "python",
   "nbconvert_exporter": "python",
   "pygments_lexer": "ipython3",
   "version": "3.7.4"
  }
 },
 "nbformat": 4,
 "nbformat_minor": 4
}
