{
 "cells": [
  {
   "cell_type": "markdown",
   "metadata": {},
   "source": [
    "### Statistics\n",
    "\n",
    "\n",
    "1. Population\n",
    "    * Mean\n",
    "    * SD\n",
    "    * Skew - mean follows skew \n",
    "2. Sample\n",
    "    * SRS - Every member of the population has an equal likelihood of being selected\n",
    "    * \\hat{x}$\n",
    "    * S = \\sum \\frac{(x_i - \\hat{x})^2}{n - 1}\n",
    "    "
   ]
  },
  {
   "cell_type": "markdown",
   "metadata": {},
   "source": [
    "$S^2 = \\sum \\frac{(x_i - \\hat{x})^2}{n - 1}$"
   ]
  },
  {
   "cell_type": "markdown",
   "metadata": {},
   "source": [
    "$S = \\sqrt{\\sum \\frac{(x_i - \\hat{x})^2}{n - 1}}$"
   ]
  },
  {
   "cell_type": "markdown",
   "metadata": {},
   "source": [
    "SE = standard deviation of the sample means."
   ]
  },
  {
   "cell_type": "markdown",
   "metadata": {},
   "source": [
    "SE = $\\frac{S}{\\sqrt{n}}$"
   ]
  },
  {
   "cell_type": "markdown",
   "metadata": {},
   "source": [
    "Central limit theorem = The sample means will be normally distributed, regardless of the shape of the distribyution of the underlying population"
   ]
  },
  {
   "cell_type": "markdown",
   "metadata": {},
   "source": [
    "> n > 30"
   ]
  },
  {
   "cell_type": "markdown",
   "metadata": {},
   "source": [
    "1. Resampling \n",
    "* df.sample()"
   ]
  },
  {
   "cell_type": "code",
   "execution_count": null,
   "metadata": {},
   "outputs": [],
   "source": [
    "samples = []\n",
    "for i in range(1000):\n",
    "    samples.append(df.sample())"
   ]
  },
  {
   "cell_type": "code",
   "execution_count": null,
   "metadata": {},
   "outputs": [],
   "source": [
    "sample_means = [sample.mean() for sample in samples]"
   ]
  },
  {
   "cell_type": "code",
   "execution_count": null,
   "metadata": {},
   "outputs": [],
   "source": [
    "np.mean(sample_means)"
   ]
  },
  {
   "cell_type": "code",
   "execution_count": null,
   "metadata": {},
   "outputs": [],
   "source": [
    "se = np.std(sample_means)"
   ]
  },
  {
   "cell_type": "markdown",
   "metadata": {},
   "source": [
    "2. Sampling Procedure\n",
    "\n",
    "A. Define Population\n",
    "    * Unit of analysis - individual vs household\n",
    "B. Sampling Frame\n",
    "    * Selection Bias - \n",
    "        * Schools \n",
    "        * \n",
    "C. Random Sample of the Sampling Frame\n",
    "D. Enrollment \n",
    "    * Non-response bias \n",
    "    * Dropout bias \n",
    "E. Reporting\n",
    "    * Cognitive Biases - Confirmation bias \n",
    "    * Lie, Mistakes ()\n",
    "    \n",
    "Choose a dataset - participation mandatory?\n",
    "    * \n",
    "        \n"
   ]
  },
  {
   "cell_type": "code",
   "execution_count": null,
   "metadata": {},
   "outputs": [],
   "source": [
    "3. Modeling \n",
    "    * Normal Distribution\n",
    "        Mean = \\hat{x}\n",
    "        SD = S\n",
    "    *T distribution\n",
    "        * allocates higher probabilities to outliers\n",
    "        * Fewer degrees of freedom\n",
    "        * More degrees of freedom, approach normal distribution"
   ]
  }
 ],
 "metadata": {
  "kernelspec": {
   "display_name": "Python 3",
   "language": "python",
   "name": "python3"
  },
  "language_info": {
   "codemirror_mode": {
    "name": "ipython",
    "version": 3
   },
   "file_extension": ".py",
   "mimetype": "text/x-python",
   "name": "python",
   "nbconvert_exporter": "python",
   "pygments_lexer": "ipython3",
   "version": "3.7.4"
  }
 },
 "nbformat": 4,
 "nbformat_minor": 4
}
