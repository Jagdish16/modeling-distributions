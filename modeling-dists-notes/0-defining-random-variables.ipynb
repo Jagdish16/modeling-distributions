{
 "cells": [
  {
   "cell_type": "markdown",
   "metadata": {},
   "source": [
    "# Defining Random Variables"
   ]
  },
  {
   "cell_type": "markdown",
   "metadata": {},
   "source": [
    "### Introduction"
   ]
  },
  {
   "cell_type": "markdown",
   "metadata": {},
   "source": [
    "Now so far, we have seen how we can learn about a variable by plotting either a frequency distribution, and exploring summary statistics, or exploring the same information with a sample from the population.\n",
    "\n",
    "As we mentioned, in most circumstances, using a sample of the population is the best that we can do, as it is simply too costly to survey the entire population.  As we'll see in this lesson, just using a sample of the population can lead us to some illogical conclusions, so instead we prefer to use the sample, to build a model of what we believe to be the distribution."
   ]
  },
  {
   "cell_type": "markdown",
   "metadata": {},
   "source": [
    "### Loading the data"
   ]
  },
  {
   "cell_type": "markdown",
   "metadata": {},
   "source": [
    "Ok let's load up our data."
   ]
  },
  {
   "cell_type": "code",
   "execution_count": 5,
   "metadata": {},
   "outputs": [],
   "source": [
    "import pandas as pd \n",
    "url = \"https://raw.githubusercontent.com/jigsawlabs-student/modeling-distributions/master/scores_grade_eight_2015.csv\"\n",
    "df = pd.read_csv(url, index_col = 0)"
   ]
  },
  {
   "cell_type": "code",
   "execution_count": 6,
   "metadata": {},
   "outputs": [
    {
     "data": {
      "text/plain": [
       "(472, 8)"
      ]
     },
     "execution_count": 6,
     "metadata": {},
     "output_type": "execute_result"
    }
   ],
   "source": [
    "df.shape"
   ]
  },
  {
   "cell_type": "code",
   "execution_count": 7,
   "metadata": {},
   "outputs": [
    {
     "data": {
      "text/html": [
       "<div>\n",
       "<style scoped>\n",
       "    .dataframe tbody tr th:only-of-type {\n",
       "        vertical-align: middle;\n",
       "    }\n",
       "\n",
       "    .dataframe tbody tr th {\n",
       "        vertical-align: top;\n",
       "    }\n",
       "\n",
       "    .dataframe thead th {\n",
       "        text-align: right;\n",
       "    }\n",
       "</style>\n",
       "<table border=\"1\" class=\"dataframe\">\n",
       "  <thead>\n",
       "    <tr style=\"text-align: right;\">\n",
       "      <th></th>\n",
       "      <th>DBN</th>\n",
       "      <th>School Name</th>\n",
       "      <th>Number Tested</th>\n",
       "      <th>Mean Scale Score</th>\n",
       "      <th># Level 1</th>\n",
       "      <th># Level 2</th>\n",
       "      <th># Level 3</th>\n",
       "      <th># Level 4</th>\n",
       "    </tr>\n",
       "  </thead>\n",
       "  <tbody>\n",
       "    <tr>\n",
       "      <th>53</th>\n",
       "      <td>01M034</td>\n",
       "      <td>P.S. 034 FRANKLIN D. ROOSEVELT</td>\n",
       "      <td>59</td>\n",
       "      <td>298.0</td>\n",
       "      <td>21.0</td>\n",
       "      <td>24.0</td>\n",
       "      <td>9.0</td>\n",
       "      <td>5.0</td>\n",
       "    </tr>\n",
       "    <tr>\n",
       "      <th>136</th>\n",
       "      <td>01M140</td>\n",
       "      <td>P.S. 140 NATHAN STRAUS</td>\n",
       "      <td>58</td>\n",
       "      <td>285.0</td>\n",
       "      <td>28.0</td>\n",
       "      <td>26.0</td>\n",
       "      <td>4.0</td>\n",
       "      <td>0.0</td>\n",
       "    </tr>\n",
       "    <tr>\n",
       "      <th>169</th>\n",
       "      <td>01M184</td>\n",
       "      <td>P.S. 184M SHUANG WEN</td>\n",
       "      <td>56</td>\n",
       "      <td>360.0</td>\n",
       "      <td>0.0</td>\n",
       "      <td>4.0</td>\n",
       "      <td>13.0</td>\n",
       "      <td>39.0</td>\n",
       "    </tr>\n",
       "  </tbody>\n",
       "</table>\n",
       "</div>"
      ],
      "text/plain": [
       "        DBN                     School Name  Number Tested  Mean Scale Score  \\\n",
       "53   01M034  P.S. 034 FRANKLIN D. ROOSEVELT             59             298.0   \n",
       "136  01M140          P.S. 140 NATHAN STRAUS             58             285.0   \n",
       "169  01M184            P.S. 184M SHUANG WEN             56             360.0   \n",
       "\n",
       "     # Level 1  # Level 2  # Level 3  # Level 4  \n",
       "53        21.0       24.0        9.0        5.0  \n",
       "136       28.0       26.0        4.0        0.0  \n",
       "169        0.0        4.0       13.0       39.0  "
      ]
     },
     "execution_count": 7,
     "metadata": {},
     "output_type": "execute_result"
    }
   ],
   "source": [
    "df[:3]"
   ]
  },
  {
   "cell_type": "markdown",
   "metadata": {},
   "source": [
    "From here, we can use numpy to select a sample from our dataframe."
   ]
  },
  {
   "cell_type": "code",
   "execution_count": 8,
   "metadata": {},
   "outputs": [],
   "source": [
    "sample_df = df.sample(n = 100, random_state = 5)"
   ]
  },
  {
   "cell_type": "code",
   "execution_count": 9,
   "metadata": {},
   "outputs": [
    {
     "data": {
      "text/html": [
       "<div>\n",
       "<style scoped>\n",
       "    .dataframe tbody tr th:only-of-type {\n",
       "        vertical-align: middle;\n",
       "    }\n",
       "\n",
       "    .dataframe tbody tr th {\n",
       "        vertical-align: top;\n",
       "    }\n",
       "\n",
       "    .dataframe thead th {\n",
       "        text-align: right;\n",
       "    }\n",
       "</style>\n",
       "<table border=\"1\" class=\"dataframe\">\n",
       "  <thead>\n",
       "    <tr style=\"text-align: right;\">\n",
       "      <th></th>\n",
       "      <th>DBN</th>\n",
       "      <th>School Name</th>\n",
       "      <th>Number Tested</th>\n",
       "      <th>Mean Scale Score</th>\n",
       "      <th># Level 1</th>\n",
       "      <th># Level 2</th>\n",
       "      <th># Level 3</th>\n",
       "      <th># Level 4</th>\n",
       "    </tr>\n",
       "  </thead>\n",
       "  <tbody>\n",
       "    <tr>\n",
       "      <th>13675</th>\n",
       "      <td>31R027</td>\n",
       "      <td>I.S. 027 ANNING S. PRALL</td>\n",
       "      <td>385</td>\n",
       "      <td>295.0</td>\n",
       "      <td>158.0</td>\n",
       "      <td>133.0</td>\n",
       "      <td>63.0</td>\n",
       "      <td>31.0</td>\n",
       "    </tr>\n",
       "    <tr>\n",
       "      <th>6491</th>\n",
       "      <td>14K318</td>\n",
       "      <td>I.S. 318 EUGENIO MARIA DE HOSTOS</td>\n",
       "      <td>328</td>\n",
       "      <td>289.0</td>\n",
       "      <td>116.0</td>\n",
       "      <td>184.0</td>\n",
       "      <td>27.0</td>\n",
       "      <td>1.0</td>\n",
       "    </tr>\n",
       "    <tr>\n",
       "      <th>10264</th>\n",
       "      <td>24Q061</td>\n",
       "      <td>I.S. 061 LEONARDO DA VINCI</td>\n",
       "      <td>768</td>\n",
       "      <td>295.0</td>\n",
       "      <td>295.0</td>\n",
       "      <td>318.0</td>\n",
       "      <td>102.0</td>\n",
       "      <td>53.0</td>\n",
       "    </tr>\n",
       "  </tbody>\n",
       "</table>\n",
       "</div>"
      ],
      "text/plain": [
       "          DBN                       School Name  Number Tested  \\\n",
       "13675  31R027          I.S. 027 ANNING S. PRALL            385   \n",
       "6491   14K318  I.S. 318 EUGENIO MARIA DE HOSTOS            328   \n",
       "10264  24Q061        I.S. 061 LEONARDO DA VINCI            768   \n",
       "\n",
       "       Mean Scale Score  # Level 1  # Level 2  # Level 3  # Level 4  \n",
       "13675             295.0      158.0      133.0       63.0       31.0  \n",
       "6491              289.0      116.0      184.0       27.0        1.0  \n",
       "10264             295.0      295.0      318.0      102.0       53.0  "
      ]
     },
     "execution_count": 9,
     "metadata": {},
     "output_type": "execute_result"
    }
   ],
   "source": [
    "sample_df[:3]"
   ]
  },
  {
   "cell_type": "markdown",
   "metadata": {},
   "source": [
    "### Defining some Terms"
   ]
  },
  {
   "cell_type": "markdown",
   "metadata": {},
   "source": [
    "Now Emmet's current middle school in Albany has an average math score of 310.  And before moving to NYC, Michelle wants to get a sense of what Emmet's school's score will be. Statisticians would frame this question consisting of the following:"
   ]
  },
  {
   "cell_type": "markdown",
   "metadata": {},
   "source": [
    "1. An experiment/trial\n",
    "* The assignment of Emmet to a school is called an *experiment* or *trial*.\n",
    "\n",
    "> In probability theory, an **experiment or trial** is any procedure that can be infinitely repeated and has a well-defined set of possible outcomes."
   ]
  },
  {
   "cell_type": "markdown",
   "metadata": {},
   "source": [
    "2. An outcome\n",
    "* The average math score of Emmet's school is called an outcome.\n",
    "> An outcome is the result of an experiment."
   ]
  },
  {
   "cell_type": "markdown",
   "metadata": {},
   "source": [
    "3. Sample space\n",
    "> The sample space is the set of all possible outcomes to an experiment.\n",
    "\n",
    "* So the set of all possible average scores Emmet's school can have is the sample space of the experiment.  The range of scores on the test is between 148 and 423, so the average score Emmet's school can have is any number in between.\n",
    "\n",
    "* $\\Omega = [148, 423]$"
   ]
  },
  {
   "cell_type": "markdown",
   "metadata": {},
   "source": [
    "> Capital omega is used to represent the probability space.  The square brackets mean the range is inclusive.  To represent exclusive, rounded brackets can be used. $\\Omega = [148, 423)$ means 148 to 423, but not including 423."
   ]
  },
  {
   "cell_type": "markdown",
   "metadata": {},
   "source": [
    "4. Continuous or Discrete\n",
    "\n",
    "It's useful to get a sense of if the sample space is continuous or discrete.  "
   ]
  },
  {
   "cell_type": "markdown",
   "metadata": {},
   "source": [
    "<img src=\"./discrete-cont-side.png\" width=\"50%\">"
   ]
  },
  {
   "cell_type": "markdown",
   "metadata": {},
   "source": [
    "A. Discrete \n",
    "* A sample space is **discrete** if there are *countably many outcomes*.  \n",
    "The number of shots a basketball player makes in a game is discrete.  A basketball player can make 20 shots, but not 20.1, or 35.9.\n",
    "\n",
    "B. Continuous\n",
    "\n",
    "* A sample space is **continous** if the set of outcomes consists of any value between the minimum value and maximum value in the sample space.\n",
    "\n",
    "For example, the weight of an individual is continous.  It can take on any value above zero.  It's the same thing for the height.  Here, because we our sample space consists of the set of the *average scores* Emmet's school can have, this sample space is continuous. "
   ]
  },
  {
   "cell_type": "markdown",
   "metadata": {},
   "source": [
    "### Probability distributions and Random Variable"
   ]
  },
  {
   "cell_type": "markdown",
   "metadata": {},
   "source": [
    "The average math score of Emmet's assigned school is an example of a *random variable*."
   ]
  },
  {
   "cell_type": "markdown",
   "metadata": {},
   "source": [
    "> A **Random variable** is described informally as a variable whose values depend on outcomes of a random phenomenon. - [Wikipedia](https://en.wikipedia.org/wiki/Random_variable)"
   ]
  },
  {
   "cell_type": "markdown",
   "metadata": {},
   "source": [
    "* Eg. How tall a newborn may grow to be\n",
    "* Here, the average math score of Emmet's assigned school"
   ]
  },
  {
   "cell_type": "markdown",
   "metadata": {},
   "source": [
    "Let's represent this random variable as $X$."
   ]
  },
  {
   "cell_type": "markdown",
   "metadata": {},
   "source": [
    "> $X = $  the math score of Emmet's assigned school."
   ]
  },
  {
   "cell_type": "markdown",
   "metadata": {},
   "source": [
    "Now we can ask questions of the random variable.  \n",
    "\n",
    "* $P(X = 310)$"
   ]
  },
  {
   "cell_type": "markdown",
   "metadata": {},
   "source": [
    "And the probability that the school's score is 300 is:\n",
    "\n",
    "* $P(X = 300)$"
   ]
  },
  {
   "cell_type": "markdown",
   "metadata": {},
   "source": [
    "> The **probability distribution function** of a random variable is a mathematical function that provides the probabilities of occurrence of different possible outcomes in that random variable."
   ]
  },
  {
   "cell_type": "markdown",
   "metadata": {},
   "source": [
    "> If our random variable is continuous, we call this the **probability density funtion**."
   ]
  },
  {
   "cell_type": "markdown",
   "metadata": {},
   "source": [
    "To show the probability distribution function our defined random variable $X$ above, we can simply plot the different math average math scores a school in NYC can take, and the probability of each score."
   ]
  },
  {
   "cell_type": "markdown",
   "metadata": {},
   "source": [
    "> Here we'll just look to our sample to get those probabilities."
   ]
  },
  {
   "cell_type": "code",
   "execution_count": 12,
   "metadata": {},
   "outputs": [],
   "source": [
    "avg_score = sample_df['Mean Scale Score']"
   ]
  },
  {
   "cell_type": "code",
   "execution_count": 19,
   "metadata": {},
   "outputs": [
    {
     "data": {
      "image/png": "[encoded data removed]",
      "text/plain": [
       "<Figure size 432x288 with 1 Axes>"
      ]
     },
     "metadata": {
      "needs_background": "light"
     },
     "output_type": "display_data"
    }
   ],
   "source": [
    "import matplotlib.pyplot as plt\n",
    "\n",
    "ax = avg_score.hist(density = True, bins = 100)\n",
    "ax.set(xlabel = 'avg math score', ylabel = 'probability')\n",
    "pdf_fig = plt.gcf()"
   ]
  },
  {
   "cell_type": "markdown",
   "metadata": {},
   "source": [
    "> The key line is: `ax = avg_score.hist(density = True)`"
   ]
  },
  {
   "cell_type": "markdown",
   "metadata": {},
   "source": [
    "So the above is a plot of the probability distribution function for our random variable $X$.  "
   ]
  },
  {
   "cell_type": "markdown",
   "metadata": {},
   "source": [
    "* $P(X = 300) = .21$"
   ]
  },
  {
   "cell_type": "code",
   "execution_count": 22,
   "metadata": {},
   "outputs": [],
   "source": [
    "# avg_score.value_counts(normalize = True).sort_index()"
   ]
  },
  {
   "cell_type": "code",
   "execution_count": null,
   "metadata": {},
   "outputs": [],
   "source": []
  }
 ],
 "metadata": {
  "kernelspec": {
   "display_name": "Python 3",
   "language": "python",
   "name": "python3"
  },
  "language_info": {
   "codemirror_mode": {
    "name": "ipython",
    "version": 3
   },
   "file_extension": ".py",
   "mimetype": "text/x-python",
   "name": "python",
   "nbconvert_exporter": "python",
   "pygments_lexer": "ipython3",
   "version": "3.7.4"
  }
 },
 "nbformat": 4,
 "nbformat_minor": 4
}
